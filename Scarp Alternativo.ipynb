{
 "cells": [
  {
   "cell_type": "code",
   "execution_count": 1,
   "metadata": {},
   "outputs": [],
   "source": [
    "import requests\n",
    "from bs4 import BeautifulSoup\n",
    "import pandas as pd\n",
    "import time\n",
    "from selenium import webdriver\n",
    "from selenium.webdriver.chrome.options import Options\n",
    "from selenium.webdriver.chrome.service import Service\n",
    "from selenium.webdriver.common.keys import Keys\n",
    "from selenium.webdriver.common.by import By\n",
    "from selenium.webdriver.support.ui import WebDriverWait\n",
    "from selenium.webdriver.support import expected_conditions as EC\n",
    "from selenium.webdriver.common.action_chains import ActionChains\n"
   ]
  },
  {
   "cell_type": "code",
   "execution_count": 2,
   "metadata": {},
   "outputs": [],
   "source": [
    "\n",
    "# Leer el archivo XLSX\n",
    "df = pd.read_excel('INE 2022.xlsx', sheet_name=0, header=None, names=['PROVINCIA', 'MUNICIPIO', 'POB22'])"
   ]
  },
  {
   "cell_type": "code",
   "execution_count": 3,
   "metadata": {},
   "outputs": [],
   "source": [
    "# Eliminar las filas 0 y 1 del DataFrame\n",
    "df = df.drop([0, 1])\n",
    "\n",
    "# Crear una lista con la columna de municipios actualizada\n",
    "municipios = df['MUNICIPIO'].tolist()"
   ]
  },
  {
   "cell_type": "code",
   "execution_count": 4,
   "metadata": {},
   "outputs": [],
   "source": [
    "# Diccionario para almacenar la información\n",
    "datos_electorales = {}"
   ]
  },
  {
   "cell_type": "code",
   "execution_count": 5,
   "metadata": {},
   "outputs": [],
   "source": [
    "# Función para esperar en segundos\n",
    "def esperar(segundos):\n",
    "    time.sleep(segundos)"
   ]
  },
  {
   "cell_type": "code",
   "execution_count": 7,
   "metadata": {},
   "outputs": [
    {
     "ename": "NoSuchElementException",
     "evalue": "Message: \n",
     "output_type": "error",
     "traceback": [
      "\u001b[0;31m---------------------------------------------------------------------------\u001b[0m",
      "\u001b[0;31mNoSuchElementException\u001b[0m                    Traceback (most recent call last)",
      "Cell \u001b[0;32mIn[7], line 9\u001b[0m\n\u001b[1;32m      7\u001b[0m \u001b[39m# Buscar y escribir en el campo de búsqueda por cada ciudad\u001b[39;00m\n\u001b[1;32m      8\u001b[0m \u001b[39mfor\u001b[39;00m ciudad \u001b[39min\u001b[39;00m municipios:\n\u001b[0;32m----> 9\u001b[0m     search_box \u001b[39m=\u001b[39m driver\u001b[39m.\u001b[39;49mfind_element(By\u001b[39m.\u001b[39;49mID, \u001b[39m\"\u001b[39;49m\u001b[39mradix-:r2k:\u001b[39;49m\u001b[39m\"\u001b[39;49m)\n\u001b[1;32m     10\u001b[0m     search_box\u001b[39m.\u001b[39mclick()\n\u001b[1;32m     11\u001b[0m     search_box\u001b[39m.\u001b[39mclear()  \u001b[39m# Limpiar la caja de búsqueda\u001b[39;00m\n",
      "File \u001b[0;32m/Library/Frameworks/Python.framework/Versions/3.9/lib/python3.9/site-packages/selenium/webdriver/remote/webdriver.py:831\u001b[0m, in \u001b[0;36mWebDriver.find_element\u001b[0;34m(self, by, value)\u001b[0m\n\u001b[1;32m    828\u001b[0m     by \u001b[39m=\u001b[39m By\u001b[39m.\u001b[39mCSS_SELECTOR\n\u001b[1;32m    829\u001b[0m     value \u001b[39m=\u001b[39m \u001b[39mf\u001b[39m\u001b[39m'\u001b[39m\u001b[39m[name=\u001b[39m\u001b[39m\"\u001b[39m\u001b[39m{\u001b[39;00mvalue\u001b[39m}\u001b[39;00m\u001b[39m\"\u001b[39m\u001b[39m]\u001b[39m\u001b[39m'\u001b[39m\n\u001b[0;32m--> 831\u001b[0m \u001b[39mreturn\u001b[39;00m \u001b[39mself\u001b[39;49m\u001b[39m.\u001b[39;49mexecute(Command\u001b[39m.\u001b[39;49mFIND_ELEMENT, {\u001b[39m\"\u001b[39;49m\u001b[39musing\u001b[39;49m\u001b[39m\"\u001b[39;49m: by, \u001b[39m\"\u001b[39;49m\u001b[39mvalue\u001b[39;49m\u001b[39m\"\u001b[39;49m: value})[\u001b[39m\"\u001b[39m\u001b[39mvalue\u001b[39m\u001b[39m\"\u001b[39m]\n",
      "File \u001b[0;32m/Library/Frameworks/Python.framework/Versions/3.9/lib/python3.9/site-packages/selenium/webdriver/remote/webdriver.py:440\u001b[0m, in \u001b[0;36mWebDriver.execute\u001b[0;34m(self, driver_command, params)\u001b[0m\n\u001b[1;32m    438\u001b[0m response \u001b[39m=\u001b[39m \u001b[39mself\u001b[39m\u001b[39m.\u001b[39mcommand_executor\u001b[39m.\u001b[39mexecute(driver_command, params)\n\u001b[1;32m    439\u001b[0m \u001b[39mif\u001b[39;00m response:\n\u001b[0;32m--> 440\u001b[0m     \u001b[39mself\u001b[39;49m\u001b[39m.\u001b[39;49merror_handler\u001b[39m.\u001b[39;49mcheck_response(response)\n\u001b[1;32m    441\u001b[0m     response[\u001b[39m\"\u001b[39m\u001b[39mvalue\u001b[39m\u001b[39m\"\u001b[39m] \u001b[39m=\u001b[39m \u001b[39mself\u001b[39m\u001b[39m.\u001b[39m_unwrap_value(response\u001b[39m.\u001b[39mget(\u001b[39m\"\u001b[39m\u001b[39mvalue\u001b[39m\u001b[39m\"\u001b[39m, \u001b[39mNone\u001b[39;00m))\n\u001b[1;32m    442\u001b[0m     \u001b[39mreturn\u001b[39;00m response\n",
      "File \u001b[0;32m/Library/Frameworks/Python.framework/Versions/3.9/lib/python3.9/site-packages/selenium/webdriver/remote/errorhandler.py:245\u001b[0m, in \u001b[0;36mErrorHandler.check_response\u001b[0;34m(self, response)\u001b[0m\n\u001b[1;32m    243\u001b[0m         alert_text \u001b[39m=\u001b[39m value[\u001b[39m\"\u001b[39m\u001b[39malert\u001b[39m\u001b[39m\"\u001b[39m]\u001b[39m.\u001b[39mget(\u001b[39m\"\u001b[39m\u001b[39mtext\u001b[39m\u001b[39m\"\u001b[39m)\n\u001b[1;32m    244\u001b[0m     \u001b[39mraise\u001b[39;00m exception_class(message, screen, stacktrace, alert_text)  \u001b[39m# type: ignore[call-arg]  # mypy is not smart enough here\u001b[39;00m\n\u001b[0;32m--> 245\u001b[0m \u001b[39mraise\u001b[39;00m exception_class(message, screen, stacktrace)\n",
      "\u001b[0;31mNoSuchElementException\u001b[0m: Message: \n"
     ]
    }
   ],
   "source": [
    "# Inicializar el driver de Selenium con Chrome\n",
    "driver = webdriver.Safari()\n",
    "driver.maximize_window()  # Maximizar la ventana del navegador\n",
    "# Abrir la página web\n",
    "driver.get(\"https://resultados.locales2023.es/\")\n",
    "\n",
    "# Buscar y escribir en el campo de búsqueda por cada ciudad\n",
    "for ciudad in municipios:\n",
    "    search_box = driver.find_element(By.ID, \"radix-:r2k:\")\n",
    "    search_box.click()\n",
    "    search_box.clear()  # Limpiar la caja de búsqueda\n",
    "    search_box.send_keys(ciudad)\n",
    "    search_box.send_keys(Keys.RETURN)\n",
    "\n",
    "    # Esperar a que se cargue la página con los resultados\n",
    "    time.sleep(20)  # Ajusta el tiempo de espera según sea necesario\n",
    "\n",
    "    # Obtener la información de los partidos y concejales\n",
    "    partido_elementos = driver.find_elements(By.CSS_SELECTOR, \"div.min-w-[10px] max-w-[95px] truncate.whitespace-nowrap.text-left.text-sm.text-primary-800\")\n",
    "    concejales_elementos = driver.find_elements(By.CSS_SELECTOR, \"span.text-base.font-bold.text-primary-800\")\n",
    "\n",
    "    partidos = [partido.text for partido in partido_elementos]\n",
    "    concejales = [concejal.text for concejal in concejales_elementos]\n",
    "\n",
    "    # Almacenar la información en el diccionario\n",
    "    datos_electorales[ciudad] = {\n",
    "        \"partidos\": partidos,\n",
    "        \"concejales\": concejales\n",
    "    }\n",
    "\n",
    "    # Esperar 3 minutos antes de la siguiente búsqueda\n",
    "    time.sleep(20)  # Tiempo de espera de 3 minutos (180 segundos)\n",
    "\n",
    "    # Limpiar la caja de búsqueda para la siguiente iteración\n",
    "    search_box = driver.find_element(By.ID, \"radix-:r2k:\")\n",
    "    search_box.clear()\n",
    "\n",
    "# Cerrar el navegador\n",
    "driver.quit()\n",
    "\n",
    "# Imprimir los datos electorales\n",
    "for ciudad, datos in datos_electorales.items():\n",
    "    print(\"Ciudad:\", ciudad)\n",
    "    print(\"Partidos:\", datos[\"partidos\"])\n",
    "    print(\"Concejales:\", datos[\"concejales\"])\n",
    "    print()\n"
   ]
  },
  {
   "cell_type": "code",
   "execution_count": null,
   "metadata": {},
   "outputs": [],
   "source": [
    "# Convertir el diccionario en un DataFrame\n",
    "df_datos_electorales = pd.DataFrame.from_dict(datos_electorales, orient='index')\n",
    "\n",
    "# Imprimir el DataFrame\n",
    "print(df_datos_electorales)"
   ]
  }
 ],
 "metadata": {
  "kernelspec": {
   "display_name": "Python 3",
   "language": "python",
   "name": "python3"
  },
  "language_info": {
   "codemirror_mode": {
    "name": "ipython",
    "version": 3
   },
   "file_extension": ".py",
   "mimetype": "text/x-python",
   "name": "python",
   "nbconvert_exporter": "python",
   "pygments_lexer": "ipython3",
   "version": "3.9.10"
  },
  "orig_nbformat": 4,
  "vscode": {
   "interpreter": {
    "hash": "aee8b7b246df8f9039afb4144a1f6fd8d2ca17a180786b69acc140d282b71a49"
   }
  }
 },
 "nbformat": 4,
 "nbformat_minor": 2
}
