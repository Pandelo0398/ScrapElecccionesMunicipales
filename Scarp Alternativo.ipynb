{
 "cells": [
  {
   "cell_type": "code",
   "execution_count": 44,
   "metadata": {},
   "outputs": [],
   "source": [
    "import requests\n",
    "from bs4 import BeautifulSoup\n",
    "import pandas as pd\n",
    "import cv2\n",
    "import os\n",
    "import time\n",
    "from selenium import webdriver\n",
    "from selenium.webdriver.chrome.options import Options\n",
    "from selenium.webdriver.chrome.service import Service\n",
    "from selenium.webdriver.common.keys import Keys\n",
    "from selenium.webdriver.common.by import By\n",
    "from selenium.webdriver.support.ui import WebDriverWait\n",
    "from selenium.webdriver.support import expected_conditions as EC\n",
    "from selenium.webdriver.common.action_chains import ActionChains\n",
    "import csv"
   ]
  },
  {
   "cell_type": "code",
   "execution_count": 40,
   "metadata": {},
   "outputs": [],
   "source": [
    "import pandas as pd\n",
    "\n",
    "# Leer el archivo XLSX\n",
    "df = pd.read_excel('INE 2022.xlsx', sheet_name=0, header=None, names=['PROVINCIA', 'MUNICIPIO', 'POB22'])"
   ]
  },
  {
   "cell_type": "code",
   "execution_count": 42,
   "metadata": {},
   "outputs": [],
   "source": [
    "# Eliminar las filas 0 y 1 del DataFrame\n",
    "df = df.drop([0, 1])\n",
    "\n",
    "# Crear una lista con la columna de municipios actualizada\n",
    "municipios = df['MUNICIPIO'].tolist()"
   ]
  },
  {
   "cell_type": "code",
   "execution_count": 9,
   "metadata": {},
   "outputs": [],
   "source": [
    "# Diccionario para almacenar la información\n",
    "datos_electorales = {}"
   ]
  },
  {
   "cell_type": "code",
   "execution_count": 10,
   "metadata": {},
   "outputs": [],
   "source": [
    "# Función para esperar en segundos\n",
    "def esperar(segundos):\n",
    "    time.sleep(segundos)"
   ]
  },
  {
   "cell_type": "code",
   "execution_count": 35,
   "metadata": {},
   "outputs": [
    {
     "ename": "StaleElementReferenceException",
     "evalue": "Message: A node reference could not be resolved: Node with identifier 'node-6058C56E-71B1-4197-8D0E-352A8A728BA3' was not found\n",
     "output_type": "error",
     "traceback": [
      "\u001b[0;31m---------------------------------------------------------------------------\u001b[0m",
      "\u001b[0;31mStaleElementReferenceException\u001b[0m            Traceback (most recent call last)",
      "Cell \u001b[0;32mIn[35], line 19\u001b[0m\n\u001b[1;32m     17\u001b[0m \u001b[39m# Utilizar JavaScript para establecer el valor del campo de búsqueda\u001b[39;00m\n\u001b[1;32m     18\u001b[0m search_query \u001b[39m=\u001b[39m \u001b[39m\"\u001b[39m\u001b[39mTorremocha del Jarama\u001b[39m\u001b[39m\"\u001b[39m\n\u001b[0;32m---> 19\u001b[0m driver\u001b[39m.\u001b[39;49mexecute_script(\u001b[39m\"\u001b[39;49m\u001b[39marguments[0].value = arguments[1];\u001b[39;49m\u001b[39m\"\u001b[39;49m, search_box, search_query)\n\u001b[1;32m     21\u001b[0m \u001b[39m# Enviar el formulario de búsqueda utilizando JavaScript\u001b[39;00m\n\u001b[1;32m     22\u001b[0m driver\u001b[39m.\u001b[39mexecute_script(\u001b[39m\"\u001b[39m\u001b[39marguments[0].form.submit();\u001b[39m\u001b[39m\"\u001b[39m, search_box)\n",
      "File \u001b[0;32m/Library/Frameworks/Python.framework/Versions/3.9/lib/python3.9/site-packages/selenium/webdriver/remote/webdriver.py:500\u001b[0m, in \u001b[0;36mWebDriver.execute_script\u001b[0;34m(self, script, *args)\u001b[0m\n\u001b[1;32m    497\u001b[0m converted_args \u001b[39m=\u001b[39m \u001b[39mlist\u001b[39m(args)\n\u001b[1;32m    498\u001b[0m command \u001b[39m=\u001b[39m Command\u001b[39m.\u001b[39mW3C_EXECUTE_SCRIPT\n\u001b[0;32m--> 500\u001b[0m \u001b[39mreturn\u001b[39;00m \u001b[39mself\u001b[39;49m\u001b[39m.\u001b[39;49mexecute(command, {\u001b[39m\"\u001b[39;49m\u001b[39mscript\u001b[39;49m\u001b[39m\"\u001b[39;49m: script, \u001b[39m\"\u001b[39;49m\u001b[39margs\u001b[39;49m\u001b[39m\"\u001b[39;49m: converted_args})[\u001b[39m\"\u001b[39m\u001b[39mvalue\u001b[39m\u001b[39m\"\u001b[39m]\n",
      "File \u001b[0;32m/Library/Frameworks/Python.framework/Versions/3.9/lib/python3.9/site-packages/selenium/webdriver/remote/webdriver.py:440\u001b[0m, in \u001b[0;36mWebDriver.execute\u001b[0;34m(self, driver_command, params)\u001b[0m\n\u001b[1;32m    438\u001b[0m response \u001b[39m=\u001b[39m \u001b[39mself\u001b[39m\u001b[39m.\u001b[39mcommand_executor\u001b[39m.\u001b[39mexecute(driver_command, params)\n\u001b[1;32m    439\u001b[0m \u001b[39mif\u001b[39;00m response:\n\u001b[0;32m--> 440\u001b[0m     \u001b[39mself\u001b[39;49m\u001b[39m.\u001b[39;49merror_handler\u001b[39m.\u001b[39;49mcheck_response(response)\n\u001b[1;32m    441\u001b[0m     response[\u001b[39m\"\u001b[39m\u001b[39mvalue\u001b[39m\u001b[39m\"\u001b[39m] \u001b[39m=\u001b[39m \u001b[39mself\u001b[39m\u001b[39m.\u001b[39m_unwrap_value(response\u001b[39m.\u001b[39mget(\u001b[39m\"\u001b[39m\u001b[39mvalue\u001b[39m\u001b[39m\"\u001b[39m, \u001b[39mNone\u001b[39;00m))\n\u001b[1;32m    442\u001b[0m     \u001b[39mreturn\u001b[39;00m response\n",
      "File \u001b[0;32m/Library/Frameworks/Python.framework/Versions/3.9/lib/python3.9/site-packages/selenium/webdriver/remote/errorhandler.py:245\u001b[0m, in \u001b[0;36mErrorHandler.check_response\u001b[0;34m(self, response)\u001b[0m\n\u001b[1;32m    243\u001b[0m         alert_text \u001b[39m=\u001b[39m value[\u001b[39m\"\u001b[39m\u001b[39malert\u001b[39m\u001b[39m\"\u001b[39m]\u001b[39m.\u001b[39mget(\u001b[39m\"\u001b[39m\u001b[39mtext\u001b[39m\u001b[39m\"\u001b[39m)\n\u001b[1;32m    244\u001b[0m     \u001b[39mraise\u001b[39;00m exception_class(message, screen, stacktrace, alert_text)  \u001b[39m# type: ignore[call-arg]  # mypy is not smart enough here\u001b[39;00m\n\u001b[0;32m--> 245\u001b[0m \u001b[39mraise\u001b[39;00m exception_class(message, screen, stacktrace)\n",
      "\u001b[0;31mStaleElementReferenceException\u001b[0m: Message: A node reference could not be resolved: Node with identifier 'node-6058C56E-71B1-4197-8D0E-352A8A728BA3' was not found\n"
     ]
    }
   ],
   "source": [
    "\n",
    "# Inicializar el driver de Selenium con Chrome\n",
    "driver = webdriver.Chrome()\n",
    "\n",
    "# Abrir la página web\n",
    "driver.get(\"https://resultados.locales2023.es/\")\n",
    "\n",
    "# Buscar y escribir en el campo de búsqueda por cada ciudad\n",
    "for ciudad in municipios:\n",
    "    search_box = WebDriverWait(driver, 10).until(EC.visibility_of_element_located((By.CSS_SELECTOR, \"input[name='q']\")))\n",
    "    search_box.click()\n",
    "    search_box.clear()\n",
    "    search_box.send_keys(ciudad)\n",
    "    search_box.send_keys(Keys.RETURN)\n",
    "\n",
    "    # Esperar a que se cargue la página con los resultados\n",
    "    time.sleep(20)  # Ajusta el tiempo de espera según sea necesario\n",
    "\n",
    "    # Obtener la información de los partidos y concejales\n",
    "    partido_elementos = WebDriverWait(driver, 10).until(EC.visibility_of_all_elements_located((By.CSS_SELECTOR, \"div.min-w-[10px] max-w-[95px] truncate whitespace-nowrap text-left.text-sm.text-primary-800\")))\n",
    "    concejales_elementos = WebDriverWait(driver, 10).until(EC.visibility_of_all_elements_located((By.CSS_SELECTOR, \"span.text-base.font-bold.text-primary-800\")))\n",
    "\n",
    "    partidos = [partido.text for partido in partido_elementos]\n",
    "    concejales = [concejal.text for concejal in concejales_elementos]\n",
    "\n",
    "    # Almacenar la información en el diccionario\n",
    "    datos_electorales[ciudad] = {\n",
    "        \"partidos\": partidos,\n",
    "        \"concejales\": concejales\n",
    "    }\n",
    "\n",
    "    # Esperar 3 minutos antes de la siguiente búsqueda\n",
    "    time.sleep(20)  # Tiempo de espera de 3 minutos (180 segundos)\n",
    "\n",
    "# Cerrar el navegador\n",
    "driver.quit()\n",
    "\n",
    "# Imprimir los datos electorales\n",
    "for ciudad, datos in datos_electorales.items():\n",
    "    print(\"Ciudad:\", ciudad)\n",
    "    print(\"Partidos:\", datos[\"partidos\"])\n",
    "    print(\"Concejales:\", datos[\"concejales\"])\n",
    "    print()"
   ]
  },
  {
   "cell_type": "code",
   "execution_count": null,
   "metadata": {},
   "outputs": [],
   "source": [
    "# Convertir el diccionario en un DataFrame\n",
    "df_datos_electorales = pd.DataFrame.from_dict(datos_electorales, orient='index')\n",
    "\n",
    "# Imprimir el DataFrame\n",
    "print(df_datos_electorales)"
   ]
  }
 ],
 "metadata": {
  "kernelspec": {
   "display_name": "Python 3",
   "language": "python",
   "name": "python3"
  },
  "language_info": {
   "codemirror_mode": {
    "name": "ipython",
    "version": 3
   },
   "file_extension": ".py",
   "mimetype": "text/x-python",
   "name": "python",
   "nbconvert_exporter": "python",
   "pygments_lexer": "ipython3",
   "version": "3.9.10"
  },
  "orig_nbformat": 4,
  "vscode": {
   "interpreter": {
    "hash": "aee8b7b246df8f9039afb4144a1f6fd8d2ca17a180786b69acc140d282b71a49"
   }
  }
 },
 "nbformat": 4,
 "nbformat_minor": 2
}
